{
 "cells": [
  {
   "cell_type": "markdown",
   "metadata": {},
   "source": [
    "<h1 align=\"center\"><span style =\"color:black;font-weight:bold\">Install Anaconda on Ubuntu</span> </h1>\n",
    "<p></p><p></p> Youtube tutorial available at: https://www.youtube.com/watch?v=jo4RMiM-ihs\n",
    "<p></p> pretty ipython notebook (nicely formated webpage): https://github.com/mGalarnyk/Anaconda_Install_Mac_Ubuntu_Windows/blob/master/Anaconda_Install_Instructions_Ubuntu.ipynb\n",
    "\n",
    "(if link fails try: github.com/mGalarnyk)"
   ]
  },
  {
   "cell_type": "markdown",
   "metadata": {},
   "source": [
    "<span style =\"color:black;font-weight:bold;font-size: 18px;\">Install Anaconda and iPython Notebook</span>"
   ]
  },
  {
   "cell_type": "markdown",
   "metadata": {},
   "source": [
    "1) Open the Terminal program by pressing <kbd>Ctrl</kbd> + <kbd>alt</kbd> + <kbd>t</kbd>\n",
    "\n",
    "2) Type the commands to go to the Downloads directory and download Anaconda 2.3.0. \n",
    "<p></p>\n",
    "<img src=\"images/ubuntu_cd.png\">\n",
    "<p></p>\n",
    "3) Type the command in red to install Anaconda.\n",
    "<img src=\"images/ubuntu_bash.png\">\n",
    "<p></p>\n",
    "4) Press <kbd>Enter</kbd> to read the license agreement. Press <kbd>Space</kbd> to continue to the next page.\n",
    "<img src=\"images/ubuntu_welcome.png\">\n",
    "<p></p>\n",
    "5) Type <kbd>yes</kbd> to accept the license terms.\n",
    "<p></p>\n",
    "<img src=\"images/ubuntu_license_terms.png\">\n",
    "6) Press <kbd>Enter</kbd> to install Anaconda to the default location.\n",
    "<p></p>\n",
    "<img src=\"images/ubuntu_default_loc.png\">\n",
    "7) Type <kbd>yes</kbd> to have Anaconda update your PATH.\n",
    "<p></p>\n",
    "<img src=\"images/ubuntu_update_path.png\">\n",
    "8) Open a new Terminal window by pressing <kbd>Ctrl</kbd>+<kbd>Alt</kbd>+<kbd>t</kbd>.\n",
    "<p></p>\n",
    "9) Type the command in red to verified Anaconda was installed.\n",
    "<p></p>\n",
    "<img src=\"images/ubuntu_verify.png\">\n",
    "10) Type the command in red to update Anaconda. \n",
    "<p></p>\n",
    "<img src=\"images/ubuntu_update_anaconda.png\">"
   ]
  },
  {
   "cell_type": "markdown",
   "metadata": {},
   "source": [
    "<span style =\"font-weight:bold;font-size: 24px;\">Congrats! You are Done! </span>"
   ]
  }
 ],
 "metadata": {
  "kernelspec": {
   "display_name": "Python 2",
   "language": "python",
   "name": "python2"
  },
  "language_info": {
   "codemirror_mode": {
    "name": "ipython",
    "version": 2
   },
   "file_extension": ".py",
   "mimetype": "text/x-python",
   "name": "python",
   "nbconvert_exporter": "python",
   "pygments_lexer": "ipython2",
   "version": "2.7.11"
  }
 },
 "nbformat": 4,
 "nbformat_minor": 0
}
